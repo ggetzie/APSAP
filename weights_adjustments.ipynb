{
 "cells": [
  {
   "cell_type": "code",
   "execution_count": 27,
   "metadata": {},
   "outputs": [
    {
     "name": "stdout",
     "output_type": "stream",
     "text": [
      "[0. 0. 0. 0.]\n",
      "[2.85877858e-01 7.14122142e-01 0.00000000e+00 5.55111512e-17]\n"
     ]
    }
   ],
   "source": [
    "#This \n",
    "import numpy as np\n",
    "import pandas as pd\n",
    "from misc import simple_get_json , simple_save_json\n",
    "from scipy import stats\n",
    "from sklearn.linear_model import LinearRegression\n",
    "from scipy.optimize import lsq_linear\n",
    "\n",
    "from scipy.optimize import nnls \n",
    "\n",
    "from scipy.optimize import minimize \n",
    "\n",
    "import numpy as np\n",
    "from sklearn.linear_model import LinearRegression\n",
    " \n",
    "weights = simple_get_json(\"./parameters/data/weights.json\")\n",
    "labels = [\"area_similarity\", \"brightness_similarity\", \"brightness_std_similarity\", \"width_length_similarity\"]\n",
    "X = []\n",
    "Y = []\n",
    "\n",
    "area_similarity =  0\n",
    "brightness_similarity =  0 \n",
    "brightness_std_similarity = 0\n",
    "width_length_similarity = 0\n",
    "for row in weights[\"data\"]:\n",
    "    current_similarities = (row[\"current_match\"])\n",
    "    \n",
    "    area_similarity+= current_similarities[\"area_similarity\"]\n",
    "    brightness_similarity+= current_similarities[\"brightness_similarity\"]\n",
    "    brightness_std_similarity+= current_similarities[\"brightness_std_similarity\"]\n",
    "    width_length_similarity+= current_similarities[\"width_length_similarity\"]\n",
    "\n",
    "    x = np.array([current_similarities[labels[0]],current_similarities[labels[1]],current_similarities[labels[2]],current_similarities[labels[3]]])\n",
    "    X.append(x)\n",
    "    Y.append(np.array(0)) #all are 1\n",
    "A = np.array(X)\n",
    " \n",
    "b = np.array(Y)\n",
    "\n",
    "#https://stackoverflow.com/questions/33385898/how-to-include-constraint-to-scipy-nnls-function-solution-so-that-it-sums-to-1\n",
    "#Using this to guess the appropriate weightings between methods\n",
    "\n",
    "#Use nnls to get initial guess\n",
    "x0, rnorm = nnls(A,b)\n",
    "print(x0)\n",
    "\n",
    "#Define minimisation function\n",
    "def fn(x, A, b):\n",
    "    return np.linalg.norm(A.dot(x) - b)\n",
    "\n",
    "#Define constraints and bounds\n",
    "cons = {'type': 'eq', 'fun': lambda x:  np.sum(x)-1}\n",
    "bounds = [[0., None],[0., None],[0., None],[0., None]]\n",
    "\n",
    "#Call minimisation subject to these values\n",
    "minout = minimize(fn, x0, args=(A, b), method='SLSQP',bounds=bounds,constraints=cons)\n",
    "x = minout.x\n",
    "print(x)\n",
    "\n",
    "\n"
   ]
  }
 ],
 "metadata": {
  "kernelspec": {
   "display_name": "Python 3",
   "language": "python",
   "name": "python3"
  },
  "language_info": {
   "codemirror_mode": {
    "name": "ipython",
    "version": 3
   },
   "file_extension": ".py",
   "mimetype": "text/x-python",
   "name": "python",
   "nbconvert_exporter": "python",
   "pygments_lexer": "ipython3",
   "version": "3.9.15 (main, Nov 24 2022, 14:39:17) [MSC v.1916 64 bit (AMD64)]"
  },
  "orig_nbformat": 4,
  "vscode": {
   "interpreter": {
    "hash": "866c4aac236c8f082d4d1ed389c489347f86f25cefe73b6f5694332e1cd5d8c9"
   }
  }
 },
 "nbformat": 4,
 "nbformat_minor": 2
}
