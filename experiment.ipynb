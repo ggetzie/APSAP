{
 "cells": [
  {
   "cell_type": "code",
   "execution_count": 9,
   "metadata": {},
   "outputs": [
    {
     "name": "stdout",
     "output_type": "stream",
     "text": [
      "{'D:\\\\ararat\\\\data\\\\files\\\\N\\\\38\\\\483390\\\\4419290\\\\9\\\\finds\\\\3dbatch\\\\2021', 'D:\\\\ararat\\\\data\\\\files\\\\N\\\\38\\\\483390\\\\4419290\\\\2\\\\finds\\\\3dbatch\\\\2021', 'D:\\\\ararat\\\\data\\\\files\\\\N\\\\38\\\\483390\\\\4419290\\\\5\\\\finds\\\\3dbatch\\\\2021', 'D:\\\\ararat\\\\data\\\\files\\\\N\\\\38\\\\483390\\\\4419290\\\\10\\\\finds\\\\3dbatch\\\\2021', 'D:\\\\ararat\\\\data\\\\files\\\\N\\\\38\\\\483390\\\\4419290\\\\7\\\\finds\\\\3dbatch\\\\2021', 'D:\\\\ararat\\\\data\\\\files\\\\N\\\\38\\\\483390\\\\4419290\\\\4\\\\finds\\\\3dbatch\\\\2021', 'D:\\\\ararat\\\\data\\\\files\\\\N\\\\38\\\\483390\\\\4419290\\\\12\\\\finds\\\\3dbatch\\\\2021', 'D:\\\\ararat\\\\data\\\\files\\\\N\\\\38\\\\483390\\\\4419290\\\\1\\\\finds\\\\3dbatch\\\\2021'}\n"
     ]
    }
   ],
   "source": [
    "from glob import glob\n",
    "from pathlib import Path\n",
    "last_parts = set()\n",
    "for i in glob(r\"D:\\ararat\\data\\files\\*\\*\\*\\*\\*\\finds\\3dbatch\\2021\"):\n",
    "    #last_part = Path(i).parts[-1]\n",
    "    last_parts.add(i)\n",
    "print(last_parts)"
   ]
  }
 ],
 "metadata": {
  "kernelspec": {
   "display_name": "APSAP",
   "language": "python",
   "name": "python3"
  },
  "language_info": {
   "codemirror_mode": {
    "name": "ipython",
    "version": 3
   },
   "file_extension": ".py",
   "mimetype": "text/x-python",
   "name": "python",
   "nbconvert_exporter": "python",
   "pygments_lexer": "ipython3",
   "version": "3.9.16"
  },
  "orig_nbformat": 4
 },
 "nbformat": 4,
 "nbformat_minor": 2
}
