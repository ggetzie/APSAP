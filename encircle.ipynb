{
 "cells": [
  {
   "cell_type": "code",
   "execution_count": 32,
   "metadata": {},
   "outputs": [],
   "source": [
    "import smallestenclosingcircle\n",
    "from  model.nn_segmentation import MaskPredictor\n",
    "from misc import open_image\n",
    "ceremicPredictor =  MaskPredictor(\"./model/ceremicsmask.pt\")\n",
    "_2d_picture_path = \"1.jpg\"\n",
    "image = open_image(_2d_picture_path, full_size=False)\n",
    "ceremic_mask  = ceremicPredictor.predict(image) \n",
    "\n"
   ]
  },
  {
   "cell_type": "code",
   "execution_count": 105,
   "metadata": {},
   "outputs": [
    {
     "name": "stdout",
     "output_type": "stream",
     "text": [
      "20.679992198944092 seconds have passed\n",
      "70143.75062378185\n"
     ]
    }
   ],
   "source": [
    "import numpy as np\n",
    "from PIL import Image, ImageDraw\n",
    "#https://stackoverflow.com/questions/51696326/extracting-boundary-of-a-numpy-array\n",
    "from scipy.ndimage import binary_dilation\n",
    "\n",
    " \n",
    "k = np.ones((3,3),dtype=int)\n",
    " \n",
    "mask_array = np.array(ceremic_mask)\n",
    "mask_array = binary_dilation(mask_array==0, k) & mask_array\n",
    "  \n",
    "nonzeros_x_ys = (np.nonzero(mask_array))\n",
    "li = (list(zip(nonzeros_x_ys[0], nonzeros_x_ys[1])))\n",
    " \n",
    "\n",
    "\n",
    "import smallestenclosingcircle\n",
    " \n",
    " \n",
    " \n",
    "new_li = []\n",
    "threshold = 100\n",
    "for i in range(len(li)):\n",
    "    addable = True\n",
    "    for pairs in new_li:\n",
    "        if( (pairs[0] - li[i][0])**2  +  (pairs[1] - li[i][1])**2  < threshold):\n",
    "            addable = False\n",
    "            break\n",
    "    if(addable == True):\n",
    "        new_li.append(li[i])\n",
    " \n",
    "\n",
    "center_x, center_y, radius = smallestenclosingcircle.make_circle(new_li)\n",
    "print(f\"{time.time() - current} seconds have passed\") \n",
    "pi = 3.1416\n",
    "area = radius * radius * pi\n",
    "print(area)\n",
    "\n",
    "def get_enclosing_circle_area(image_path, predictor):\n",
    "    image = open_image(image_path, full_size=False)\n",
    "    mask = predictor.predict(image)\n",
    "    mask_array = np.array(mask)\n",
    "    #Here using a technique to leave out only the points of the object consisting of the boundary, so that we have much fewer points to handle\n",
    "    boundary_array = binary_dilation(mask_array==0, k) & mask_array\n",
    "    #Here we get the x, y coordinates of the boundary(which is the non zeros values of the 2d array)\n",
    "    nonzeros_x_ys = np.nonzero(boundary_array)\n",
    "    #Tuples of all indices of the boundary\n",
    "    indices_tuples = list(zip(nonzeros_x_ys[0], nonzeros_x_ys[1]))\n",
    "    #Below is a nested O(n^2) for loop that gets\n",
    "    new_li = []\n",
    "    threshold = 100\n",
    "    for i in range(len(li)): #For each of the tuple, compared it to all the tuples added before, if they are close in distance, don't add to it.\n",
    "        addable = True\n",
    "        for pairs in new_li:\n",
    "            if( (pairs[0] - li[i][0])**2  +  (pairs[1] - li[i][1])**2  < threshold):\n",
    "                addable = False\n",
    "                break\n",
    "        if(addable == True):\n",
    "            new_li.append(li[i])\n",
    "    center_x, center_y, radius = smallestenclosingcircle.make_circle(new_li)\n",
    "    return radius\n",
    "     \n",
    "    \n",
    " \n",
    "\n",
    "\n",
    "\n",
    " "
   ]
  },
  {
   "cell_type": "code",
   "execution_count": 7,
   "metadata": {},
   "outputs": [
    {
     "name": "stdout",
     "output_type": "stream",
     "text": [
      "70143.75062378185\n",
      "70925.54699999999\n"
     ]
    }
   ],
   "source": [
    "import smallestenclosingcircle\n",
    "from  model.nn_segmentation import MaskPredictor\n",
    "from misc import open_image\n",
    "ceremicPredictor =  MaskPredictor(\"./model/ceremicsmask.pt\")\n",
    "import numpy as np\n",
    "from PIL import Image, ImageDraw\n",
    "#https://stackoverflow.com/questions/51696326/extracting-boundary-of-a-numpy-array\n",
    "from scipy.ndimage import binary_dilation\n",
    "import smallestenclosingcircle\n",
    "def get_enclosing_circle_area(image_path, predictor):\n",
    "    image = open_image(image_path, full_size=False)\n",
    "    mask = predictor.predict(image)\n",
    "    mask_array = np.array(mask)\n",
    "    #Here using a technique to leave out only the points of the object consisting of the boundary, so that we have much fewer points to handle\n",
    "    k = np.ones((3,3),dtype=int)\n",
    "    boundary_array = binary_dilation(mask_array==0, k) & mask_array\n",
    "    #Here we get the x, y coordinates of the boundary(which is the non zeros values of the 2d array)\n",
    "    nonzeros_x_ys = np.nonzero(boundary_array)\n",
    "    #Tuples of all indices of the boundary\n",
    "    indices_tuples = list(zip(nonzeros_x_ys[0], nonzeros_x_ys[1]))\n",
    "    #Below is a nested O(n^2) for loop that gets\n",
    "    new_li = []\n",
    "    threshold = 100\n",
    "    for i in range(len(indices_tuples)): #For each of the tuple, compared it to all the tuples added before, if they are close in distance, don't add to it.\n",
    "        addable = True\n",
    "        for pairs in new_li:\n",
    "            if( (pairs[0] - indices_tuples[i][0])**2  +  (pairs[1] - indices_tuples[i][1])**2  < threshold):\n",
    "                addable = False\n",
    "                break\n",
    "        if(addable == True):\n",
    "            new_li.append(indices_tuples[i])\n",
    "    center_x, center_y, radius = smallestenclosingcircle.make_circle(new_li)\n",
    "    return (radius**2 ) * 3.1416\n",
    "\n",
    "print(get_enclosing_circle_area(\"1.jpg\", ceremicPredictor))\n",
    "\n",
    "def get_enclosing_circle_slow_area(image_path, predictor):\n",
    "    image = open_image(image_path, full_size=False)\n",
    "    mask = predictor.predict(image)\n",
    "    mask_array = np.array(mask)\n",
    "    #Here using a technique to leave out only the points of the object consisting of the boundary, so that we have much fewer points to handle\n",
    "    k = np.ones((3,3),dtype=int)\n",
    "    boundary_array = binary_dilation(mask_array==0, k) & mask_array\n",
    "    #Here we get the x, y coordinates of the boundary(which is the non zeros values of the 2d array)\n",
    "    nonzeros_x_ys = np.nonzero(boundary_array)\n",
    "    #Tuples of all indices of the boundary\n",
    "    indices_tuples = list(zip(nonzeros_x_ys[0], nonzeros_x_ys[1]))\n",
    "    #Below is a nested O(n^2) for loop that gets\n",
    "    \n",
    "    center_x, center_y, radius = smallestenclosingcircle.make_circle(indices_tuples)\n",
    "    return (radius**2 ) * 3.1416\n",
    "\n",
    "print(get_enclosing_circle_slow_area(\"1.jpg\", ceremicPredictor))\n"
   ]
  }
 ],
 "metadata": {
  "kernelspec": {
   "display_name": "Python 3",
   "language": "python",
   "name": "python3"
  },
  "language_info": {
   "codemirror_mode": {
    "name": "ipython",
    "version": 3
   },
   "file_extension": ".py",
   "mimetype": "text/x-python",
   "name": "python",
   "nbconvert_exporter": "python",
   "pygments_lexer": "ipython3",
   "version": "3.9.15"
  },
  "orig_nbformat": 4,
  "vscode": {
   "interpreter": {
    "hash": "866c4aac236c8f082d4d1ed389c489347f86f25cefe73b6f5694332e1cd5d8c9"
   }
  }
 },
 "nbformat": 4,
 "nbformat_minor": 2
}
