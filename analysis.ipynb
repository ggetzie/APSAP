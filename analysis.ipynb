{
 "cells": [
  {
   "cell_type": "code",
   "execution_count": 69,
   "metadata": {},
   "outputs": [
    {
     "name": "stdout",
     "output_type": "stream",
     "text": [
      "350\n",
      "(array([0.        , 0.47883506, 0.03163055, 0.07462752, 0.32334942]), 0.6761089449728924)\n"
     ]
    }
   ],
   "source": [
    "\n",
    "import numpy as np\n",
    "import pandas as pd\n",
    " \n",
    " \n",
    "from sklearn.model_selection import train_test_split\n",
    "from sklearn.linear_model import LinearRegression\n",
    "from misc import simple_get_json \n",
    "import numpy as np\n",
    "past_3d_data = simple_get_json(\"for_ml.json\")\n",
    "X = [] \n",
    "\n",
    "for i in past_3d_data[\"data\"]:\n",
    "   if i['path'] == \"D:\\\\ararat\\\\data\\\\files\\\\N\\\\38\\\\478020\\\\4419550\\\\13\":\n",
    "      X.append(i[\"cal\"])\n",
    "y = []\n",
    "print(len(X))\n",
    "for i in X:\n",
    "   y.append(1)\n",
    "X_np = np.array(X)\n",
    "y_np = np.array(y)\n",
    " \n",
    "from scipy.optimize import nnls\n",
    "\n",
    "print(nnls(X_np, y_np))\n",
    " "
   ]
  },
  {
   "cell_type": "code",
   "execution_count": 6,
   "metadata": {},
   "outputs": [
    {
     "name": "stdout",
     "output_type": "stream",
     "text": [
      "LinearRegression(\n",
      "  (linear): Linear(in_features=5, out_features=1, bias=False)\n",
      ")\n",
      "Parameter containing:\n",
      "tensor([[ 0.2949,  0.2312,  0.2954,  0.0571, -0.0517]], requires_grad=True)\n"
     ]
    }
   ],
   "source": [
    "print(linear_model)\n",
    "for param in linear_model.parameters():\n",
    "    print(param)"
   ]
  }
 ],
 "metadata": {
  "kernelspec": {
   "display_name": "Python 3.9.15",
   "language": "python",
   "name": "python3"
  },
  "language_info": {
   "codemirror_mode": {
    "name": "ipython",
    "version": 3
   },
   "file_extension": ".py",
   "mimetype": "text/x-python",
   "name": "python",
   "nbconvert_exporter": "python",
   "pygments_lexer": "ipython3",
   "version": "3.9.15"
  },
  "orig_nbformat": 4,
  "vscode": {
   "interpreter": {
    "hash": "866c4aac236c8f082d4d1ed389c489347f86f25cefe73b6f5694332e1cd5d8c9"
   }
  }
 },
 "nbformat": 4,
 "nbformat_minor": 2
}
