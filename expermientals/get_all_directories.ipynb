{
 "cells": [
  {
   "cell_type": "code",
   "execution_count": null,
   "metadata": {},
   "outputs": [],
   "source": [
    "from glob import glob \n",
    "from pathlib import Path, PurePath\n",
    "FILE_ROOT = PurePath(\"D:/ararat/data/files\")\n",
    "import os \n",
    "import json\n",
    "hemisphere_paths = glob( str(FILE_ROOT / \"N\")) + glob( str(FILE_ROOT / \"S\")) \n",
    "\n",
    "ply_paths = []\n",
    "for hemisphere_path in hemisphere_paths:\n",
    "    zone_paths = glob(str(PurePath(hemisphere_path)/\"*\"))\n",
    " \n",
    "    for zone_path in zone_paths:\n",
    "        easting_paths = glob(str(PurePath(zone_path)/\"*\"))\n",
    "\n",
    " \n",
    "        for easting_path in easting_paths:\n",
    "            northing_paths = glob(str(PurePath(easting_path)/\"*\"))\n",
    "            \n",
    "            for northing_path in northing_paths:\n",
    "                context_paths = glob(str(PurePath(northing_path)/\"*\"))\n",
    "                \n",
    "                for context_path in context_paths:\n",
    "                    finds_folder = PurePath(context_path)/\"finds\"\n",
    "\n",
    "                    _3d_batch_folder = finds_folder/\"3dbatch\"\n",
    "                    years_in_3d_batch = glob(str(_3d_batch_folder/\"*\"))\n",
    "                    for year in years_in_3d_batch:\n",
    "                        batch_xxxs =  glob(str(PurePath(year)/\"batch_*\"))\n",
    "                        for batch in batch_xxxs:\n",
    "                            ply_folder = PurePath(batch)/\"registration_reso1_maskthres242/final_output\"\n",
    "                            plys = glob(str(ply_folder/\"piece_*_world.ply\"))\n",
    "                            for ply in plys:\n",
    "                                ply_paths.append(ply)\n",
    "print(len(ply_paths))\n",
    "with open('ply_paths.json', 'w') as f:\n",
    "    json.dump(ply_paths, f)\n"
   ]
  },
  {
   "cell_type": "code",
   "execution_count": null,
   "metadata": {},
   "outputs": [],
   "source": [
    "from glob import glob \n",
    "from pathlib import Path, PurePath\n",
    "FILE_ROOT = PurePath(\"D:/ararat/data/files\")\n",
    "import os \n",
    "import json\n",
    "hemisphere_paths = glob( str(FILE_ROOT / \"N\")) + glob( str(FILE_ROOT / \"S\")) \n",
    "\n",
    "jpg_paths = []\n",
    "count  = 0\n",
    "for hemisphere_path in hemisphere_paths:\n",
    "    zone_paths = glob(str(PurePath(hemisphere_path)/\"*\"))\n",
    " \n",
    "    for zone_path in zone_paths:\n",
    "        easting_paths = glob(str(PurePath(zone_path)/\"*\"))\n",
    "\n",
    " \n",
    "        for easting_path in easting_paths:\n",
    "            northing_paths = glob(str(PurePath(easting_path)/\"*\"))\n",
    "            \n",
    "            for northing_path in northing_paths:\n",
    "                context_paths = glob(str(PurePath(northing_path)/\"*\"))\n",
    "                \n",
    "                for context_path in context_paths:\n",
    "                    finds_folder = PurePath(context_path)/\"finds\"\n",
    "                    individual_folder = finds_folder/\"individual\"\n",
    "                    individual_folders = glob(str(individual_folder/\"*\"))\n",
    "                    for indi_folder in individual_folders:\n",
    "                        photos_folder = (PurePath(indi_folder)/\"photos\")\n",
    "                        jpg_1 = photos_folder/\"1.jpg\"\n",
    "                        jpg_2 = photos_folder/\"2.jpg\"\n",
    "                        if glob(str(jpg_1)) and glob(str(jpg_2)):\n",
    "                            jpg_paths.append(str(jpg_1))\n",
    "                            jpg_paths.append(str(jpg_2))\n",
    "                            count += 1\n",
    "                            print(count)                     \n",
    "\n",
    "with open('jpgs_paths.json', 'w') as f:\n",
    "    json.dump(jpg_paths, f)"
   ]
  }
 ],
 "metadata": {
  "kernelspec": {
   "display_name": "apsap",
   "language": "python",
   "name": "python3"
  },
  "language_info": {
   "codemirror_mode": {
    "name": "ipython",
    "version": 3
   },
   "file_extension": ".py",
   "mimetype": "text/x-python",
   "name": "python",
   "nbconvert_exporter": "python",
   "pygments_lexer": "ipython3",
   "version": "3.9.16 (main, Jan 11 2023, 16:16:36) [MSC v.1916 64 bit (AMD64)]"
  },
  "orig_nbformat": 4,
  "vscode": {
   "interpreter": {
    "hash": "002e5154869e9cd98b5ffcb480717f14f2e08d6977aa36f666ba18333329532a"
   }
  }
 },
 "nbformat": 4,
 "nbformat_minor": 2
}
