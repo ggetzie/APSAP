{
 "cells": [
  {
   "cell_type": "code",
   "execution_count": 18,
   "metadata": {},
   "outputs": [
    {
     "name": "stdout",
     "output_type": "stream",
     "text": [
      "{'circles': {'slope': 0.9055558282782922, 'intercept': 0.03996414943733839}}\n"
     ]
    }
   ],
   "source": [
    "sys.path.append('../..')\n",
    "\n",
    "from misc import simple_get_json\n",
    "json_obj = simple_get_json(\"../../circles.json\")\n",
    "from scipy import stats\n",
    "\n",
    "def basic_similaritiy(a, b):\n",
    "    return  abs(a - b) / (a + b)\n",
    "_2d_ratios = []\n",
    "_3d_ratios = []\n",
    " \n",
    "import numpy as np\n",
    "for i in json_obj[\"data\"]:\n",
    "    _2d_ratio_1 = i[\"_2d_ratio_1\"]\n",
    "    _2d_ratio_2 = i[\"_2d_ratio_2\"]\n",
    "    _3d_ratio = i[\"_3d_ratio\"]\n",
    "    if basic_similaritiy(_2d_ratio_1,_3d_ratio)> basic_similaritiy(_2d_ratio_2,_3d_ratio): #The smaller the more similiar\n",
    "        _2d_ratios.append(_2d_ratio_2)\n",
    "    else:\n",
    "        _2d_ratios.append(_2d_ratio_1)\n",
    "    _3d_ratios.append(_3d_ratio)\n",
    "\n",
    "\n",
    "data_to_save = {}\n",
    "\n",
    "X = np.array(_2d_ratios) \n",
    "Y = np.array(_3d_ratios) \n",
    "res = stats.linregress(X, Y, \"greater\")\n",
    "feature_detail = {}\n",
    "feature_detail[\"slope\"] = res.slope\n",
    "feature_detail[\"intercept\"] = res.intercept\n",
    "data_to_save[\"circles\"] = feature_detail\n",
    "print(data_to_save)\n"
   ]
  }
 ],
 "metadata": {
  "kernelspec": {
   "display_name": "compare",
   "language": "python",
   "name": "python3"
  },
  "language_info": {
   "codemirror_mode": {
    "name": "ipython",
    "version": 3
   },
   "file_extension": ".py",
   "mimetype": "text/x-python",
   "name": "python",
   "nbconvert_exporter": "python",
   "pygments_lexer": "ipython3",
   "version": "3.9.15"
  },
  "orig_nbformat": 4,
  "vscode": {
   "interpreter": {
    "hash": "866c4aac236c8f082d4d1ed389c489347f86f25cefe73b6f5694332e1cd5d8c9"
   }
  }
 },
 "nbformat": 4,
 "nbformat_minor": 2
}
