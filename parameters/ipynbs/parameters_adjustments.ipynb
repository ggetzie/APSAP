{
 "cells": [
  {
   "cell_type": "code",
   "execution_count": 1,
   "metadata": {},
   "outputs": [
    {
     "name": "stdout",
     "output_type": "stream",
     "text": [
      "{'area': {'slope': 1.0133171054586536, 'intercept': 0.35466226865761286}, 'brightness': {'slope': 0.8956742782762427, 'intercept': 2.3838311724139203}, 'brightness_std': {'slope': 0.18017225265541612, 'intercept': 14.349291878659587}, 'width': {'slope': 0.9635707394493969, 'intercept': 0.8050303142725816}, 'length': {'slope': 1.0037706202571441, 'intercept': 0.3561683550570862}}\n"
     ]
    }
   ],
   "source": [
    "#This \n",
    "import numpy as np\n",
    "import pandas as pd\n",
    "from helper.misc import simple_get_json , simple_save_json\n",
    "from scipy import stats\n",
    "\n",
    "parameters = simple_get_json(\"for_ml.json\")\n",
    "\n",
    "#X: 2d area\n",
    "#Y: 3d area\n",
    "X_area = [] \n",
    "Y_area = []\n",
    "X_brightness = [] \n",
    "Y_brightness = []\n",
    "X_brightness_std = [] \n",
    "Y_brightness_std = []\n",
    "X_width = [] \n",
    "Y_width = []\n",
    "X_length = [] \n",
    "Y_length = []\n",
    "\n",
    "\n",
    "for row in parameters[\"data\"]:\n",
    "     data =  row[\"current_match\"]\n",
    "     X_area.append(data[\"_2d_area\"])\n",
    "     Y_area.append(data[\"_3d_area\"])\n",
    "     X_brightness.append(data[\"_2d_brightness\"])\n",
    "     Y_brightness.append(data[\"_3d_brightness\"])\n",
    "     X_brightness_std.append(data[\"_2d_brightness_std\"])\n",
    "     Y_brightness_std.append(data[\"_3d_brightness_std\"])\n",
    "     X_width.append(data[\"_2d_width\"])\n",
    "     Y_width.append(data[\"_3d_width\"])\n",
    "     X_length.append(data[\"_2d_length\"])\n",
    "     Y_length.append(data[\"_3d_length\"])\n",
    "\n",
    "data_to_save = {}\n",
    "for feature in (\"area\", \"brightness\", \"brightness_std\", \"width\", \"length\"):\n",
    "      X = np.array(globals()[f\"X_{feature}\"]) \n",
    "      Y = np.array(globals()[f\"Y_{feature}\"]) \n",
    "      res = stats.linregress(X, Y, \"greater\")\n",
    "      feature_detail = {}\n",
    "      feature_detail[\"slope\"] = res.slope\n",
    "      feature_detail[\"intercept\"] = res.intercept\n",
    "      data_to_save[feature] = feature_detail\n",
    "print(data_to_save)\n",
    "simple_save_json(data_to_save, \"./parameters/data/parameters.json\")\n",
    " \n",
    "\n",
    " "
   ]
  }
 ],
 "metadata": {
  "kernelspec": {
   "display_name": "Python 3",
   "language": "python",
   "name": "python3"
  },
  "language_info": {
   "codemirror_mode": {
    "name": "ipython",
    "version": 3
   },
   "file_extension": ".py",
   "mimetype": "text/x-python",
   "name": "python",
   "nbconvert_exporter": "python",
   "pygments_lexer": "ipython3",
   "version": "3.10.5 (main, Jun 18 2022, 01:16:30)  [GCC 12.1.0 64 bit (AMD64)]"
  },
  "orig_nbformat": 4,
  "vscode": {
   "interpreter": {
    "hash": "c56527485b7c9dd36c8c8808345694ae9d0a642c0f00dfb6356f9a65494ceb50"
   }
  }
 },
 "nbformat": 4,
 "nbformat_minor": 2
}
